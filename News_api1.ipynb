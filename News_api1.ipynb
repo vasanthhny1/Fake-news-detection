{
 "cells": [
  {
   "cell_type": "code",
   "execution_count": 1,
   "id": "17f598b7-e343-46fe-aaca-e640b01504b4",
   "metadata": {},
   "outputs": [
    {
     "name": "stderr",
     "output_type": "stream",
     "text": [
      "C:\\ProgramData\\Anaconda3\\lib\\site-packages\\scipy\\__init__.py:146: UserWarning: A NumPy version >=1.16.5 and <1.23.0 is required for this version of SciPy (detected version 1.23.1\n",
      "  warnings.warn(f\"A NumPy version >={np_minversion} and <{np_maxversion}\"\n"
     ]
    }
   ],
   "source": [
    "import numpy as np\n",
    "import pandas as pd\n",
    "import itertools\n",
    "from sklearn.model_selection import train_test_split\n",
    "from sklearn.feature_extraction.text import TfidfVectorizer\n",
    "from sklearn.linear_model import PassiveAggressiveClassifier\n",
    "from sklearn.metrics import accuracy_score, confusion_matrix"
   ]
  },
  {
   "cell_type": "code",
   "execution_count": 10,
   "id": "628488f0-f30f-4187-9ab8-30a60ec36200",
   "metadata": {},
   "outputs": [
    {
     "data": {
      "text/html": [
       "<div>\n",
       "<style scoped>\n",
       "    .dataframe tbody tr th:only-of-type {\n",
       "        vertical-align: middle;\n",
       "    }\n",
       "\n",
       "    .dataframe tbody tr th {\n",
       "        vertical-align: top;\n",
       "    }\n",
       "\n",
       "    .dataframe thead th {\n",
       "        text-align: right;\n",
       "    }\n",
       "</style>\n",
       "<table border=\"1\" class=\"dataframe\">\n",
       "  <thead>\n",
       "    <tr style=\"text-align: right;\">\n",
       "      <th></th>\n",
       "      <th>Unnamed: 0</th>\n",
       "      <th>title</th>\n",
       "      <th>author</th>\n",
       "      <th>published_date</th>\n",
       "      <th>published_date_precision</th>\n",
       "      <th>link</th>\n",
       "      <th>clean_url</th>\n",
       "      <th>excerpt</th>\n",
       "      <th>summary</th>\n",
       "      <th>rights</th>\n",
       "      <th>...</th>\n",
       "      <th>topic</th>\n",
       "      <th>country</th>\n",
       "      <th>language</th>\n",
       "      <th>authors</th>\n",
       "      <th>media</th>\n",
       "      <th>is_opinion</th>\n",
       "      <th>twitter_account</th>\n",
       "      <th>_score</th>\n",
       "      <th>_id</th>\n",
       "      <th>used_params</th>\n",
       "    </tr>\n",
       "  </thead>\n",
       "  <tbody>\n",
       "    <tr>\n",
       "      <th>0</th>\n",
       "      <td>0</td>\n",
       "      <td>Does Bitcoin Beat Inflation?</td>\n",
       "      <td>Roger Huang</td>\n",
       "      <td>2022-12-04 19:16:19</td>\n",
       "      <td>full</td>\n",
       "      <td>https://www.forbes.com/sites/rogerhuang/2022/1...</td>\n",
       "      <td>forbes.com</td>\n",
       "      <td>As inflation mounts throughout the developed w...</td>\n",
       "      <td>PARIS, FRANCE - NOVEMBER 30: In this photo ill...</td>\n",
       "      <td>Copyright 2022 Forbes Media LLC</td>\n",
       "      <td>...</td>\n",
       "      <td>business</td>\n",
       "      <td>US</td>\n",
       "      <td>en</td>\n",
       "      <td>Roger Huang</td>\n",
       "      <td>https://imageio.forbes.com/specials-images/ima...</td>\n",
       "      <td>False</td>\n",
       "      <td>@forbes</td>\n",
       "      <td>9.171624</td>\n",
       "      <td>914213bf3dc5620e2e34aaa108a79d39</td>\n",
       "      <td>{'q': 'Bitcoin', 'lang': 'en', 'to_rank': 1000...</td>\n",
       "    </tr>\n",
       "    <tr>\n",
       "      <th>1</th>\n",
       "      <td>1</td>\n",
       "      <td>Legendary Investor Reveals Shock Bitcoin Price...</td>\n",
       "      <td>Billy Bambrough</td>\n",
       "      <td>2022-11-29 13:15:13</td>\n",
       "      <td>full</td>\n",
       "      <td>https://www.forbes.com/sites/billybambrough/20...</td>\n",
       "      <td>forbes.com</td>\n",
       "      <td>The bitcoin price has dropped to around $16,00...</td>\n",
       "      <td>Bitcoin BTC has come under severe pressure in ...</td>\n",
       "      <td>Copyright 2022 Forbes Media LLC</td>\n",
       "      <td>...</td>\n",
       "      <td>business</td>\n",
       "      <td>US</td>\n",
       "      <td>en</td>\n",
       "      <td>Billy Bambrough,Senior Contributor</td>\n",
       "      <td>https://imageio.forbes.com/specials-images/ima...</td>\n",
       "      <td>False</td>\n",
       "      <td>@billybambrough</td>\n",
       "      <td>9.071534</td>\n",
       "      <td>b463e7bd816a40559106ba780e07ba75</td>\n",
       "      <td>{'q': 'Bitcoin', 'lang': 'en', 'to_rank': 1000...</td>\n",
       "    </tr>\n",
       "    <tr>\n",
       "      <th>2</th>\n",
       "      <td>2</td>\n",
       "      <td>Applied Direct Response — ERCOT Study Shows Bi...</td>\n",
       "      <td>Alexander Graham</td>\n",
       "      <td>2022-12-03 20:30:49</td>\n",
       "      <td>full</td>\n",
       "      <td>https://news.bitcoin.com/applied-direct-respon...</td>\n",
       "      <td>bitcoin.com</td>\n",
       "      <td>On Nov. 29, 2022, The Electric Reliability Cou...</td>\n",
       "      <td>On Nov. 29, 2022, The Electric Reliability Cou...</td>\n",
       "      <td>stl.news</td>\n",
       "      <td>...</td>\n",
       "      <td>business</td>\n",
       "      <td>KN</td>\n",
       "      <td>en</td>\n",
       "      <td>Alexander Graham</td>\n",
       "      <td>https://www.stl.news/wp-content/uploads/2022/1...</td>\n",
       "      <td>False</td>\n",
       "      <td>@stlnewsonline</td>\n",
       "      <td>8.952931</td>\n",
       "      <td>2675c8faa6140f16524501176c9ea87f</td>\n",
       "      <td>{'q': 'Bitcoin', 'lang': 'en', 'to_rank': 1000...</td>\n",
       "    </tr>\n",
       "    <tr>\n",
       "      <th>3</th>\n",
       "      <td>3</td>\n",
       "      <td>One Of The Biggest Bitcoin And Crypto Bulls Ju...</td>\n",
       "      <td>Billy Bambrough</td>\n",
       "      <td>2022-12-02 13:35:29</td>\n",
       "      <td>full</td>\n",
       "      <td>https://www.forbes.com/sites/billybambrough/20...</td>\n",
       "      <td>forbes.com</td>\n",
       "      <td>Renowned bitcoin and crypto bull Mike Novograt...</td>\n",
       "      <td>Bitcoin BTC and cryptocurrencies remain under ...</td>\n",
       "      <td>Copyright 2022 Forbes Media LLC</td>\n",
       "      <td>...</td>\n",
       "      <td>business</td>\n",
       "      <td>US</td>\n",
       "      <td>en</td>\n",
       "      <td>Billy Bambrough,Senior Contributor</td>\n",
       "      <td>https://imageio.forbes.com/specials-images/ima...</td>\n",
       "      <td>False</td>\n",
       "      <td>@forbes</td>\n",
       "      <td>8.888514</td>\n",
       "      <td>ce95aba216627a60bef50fe85b13f75e</td>\n",
       "      <td>{'q': 'Bitcoin', 'lang': 'en', 'to_rank': 1000...</td>\n",
       "    </tr>\n",
       "    <tr>\n",
       "      <th>4</th>\n",
       "      <td>4</td>\n",
       "      <td>ECB officials say this is ‘Bitcoin's last stand'</td>\n",
       "      <td>Http</td>\n",
       "      <td>2022-11-30 15:59:00</td>\n",
       "      <td>full</td>\n",
       "      <td>https://www.kitco.com/news/2022-11-30/ECB-offi...</td>\n",
       "      <td>kitco.com</td>\n",
       "      <td>(Kitco News) - As crypto markets continue to r...</td>\n",
       "      <td>Editor's Note: With so much market volatility,...</td>\n",
       "      <td>kitco.com</td>\n",
       "      <td>...</td>\n",
       "      <td>business</td>\n",
       "      <td>US</td>\n",
       "      <td>en</td>\n",
       "      <td>Http</td>\n",
       "      <td>https://www.kitco.com/news/2022-11-30/images/S...</td>\n",
       "      <td>False</td>\n",
       "      <td>@KitcoNewsNOW</td>\n",
       "      <td>8.884374</td>\n",
       "      <td>3adc5dc09e467407105a47501c43bfa0</td>\n",
       "      <td>{'q': 'Bitcoin', 'lang': 'en', 'to_rank': 1000...</td>\n",
       "    </tr>\n",
       "  </tbody>\n",
       "</table>\n",
       "<p>5 rows × 21 columns</p>\n",
       "</div>"
      ],
      "text/plain": [
       "   Unnamed: 0                                              title  \\\n",
       "0           0                       Does Bitcoin Beat Inflation?   \n",
       "1           1  Legendary Investor Reveals Shock Bitcoin Price...   \n",
       "2           2  Applied Direct Response — ERCOT Study Shows Bi...   \n",
       "3           3  One Of The Biggest Bitcoin And Crypto Bulls Ju...   \n",
       "4           4   ECB officials say this is ‘Bitcoin's last stand'   \n",
       "\n",
       "             author       published_date published_date_precision  \\\n",
       "0       Roger Huang  2022-12-04 19:16:19                     full   \n",
       "1   Billy Bambrough  2022-11-29 13:15:13                     full   \n",
       "2  Alexander Graham  2022-12-03 20:30:49                     full   \n",
       "3   Billy Bambrough  2022-12-02 13:35:29                     full   \n",
       "4              Http  2022-11-30 15:59:00                     full   \n",
       "\n",
       "                                                link    clean_url  \\\n",
       "0  https://www.forbes.com/sites/rogerhuang/2022/1...   forbes.com   \n",
       "1  https://www.forbes.com/sites/billybambrough/20...   forbes.com   \n",
       "2  https://news.bitcoin.com/applied-direct-respon...  bitcoin.com   \n",
       "3  https://www.forbes.com/sites/billybambrough/20...   forbes.com   \n",
       "4  https://www.kitco.com/news/2022-11-30/ECB-offi...    kitco.com   \n",
       "\n",
       "                                             excerpt  \\\n",
       "0  As inflation mounts throughout the developed w...   \n",
       "1  The bitcoin price has dropped to around $16,00...   \n",
       "2  On Nov. 29, 2022, The Electric Reliability Cou...   \n",
       "3  Renowned bitcoin and crypto bull Mike Novograt...   \n",
       "4  (Kitco News) - As crypto markets continue to r...   \n",
       "\n",
       "                                             summary  \\\n",
       "0  PARIS, FRANCE - NOVEMBER 30: In this photo ill...   \n",
       "1  Bitcoin BTC has come under severe pressure in ...   \n",
       "2  On Nov. 29, 2022, The Electric Reliability Cou...   \n",
       "3  Bitcoin BTC and cryptocurrencies remain under ...   \n",
       "4  Editor's Note: With so much market volatility,...   \n",
       "\n",
       "                            rights  ...     topic country language  \\\n",
       "0  Copyright 2022 Forbes Media LLC  ...  business      US       en   \n",
       "1  Copyright 2022 Forbes Media LLC  ...  business      US       en   \n",
       "2                         stl.news  ...  business      KN       en   \n",
       "3  Copyright 2022 Forbes Media LLC  ...  business      US       en   \n",
       "4                        kitco.com  ...  business      US       en   \n",
       "\n",
       "                              authors  \\\n",
       "0                         Roger Huang   \n",
       "1  Billy Bambrough,Senior Contributor   \n",
       "2                    Alexander Graham   \n",
       "3  Billy Bambrough,Senior Contributor   \n",
       "4                                Http   \n",
       "\n",
       "                                               media is_opinion  \\\n",
       "0  https://imageio.forbes.com/specials-images/ima...      False   \n",
       "1  https://imageio.forbes.com/specials-images/ima...      False   \n",
       "2  https://www.stl.news/wp-content/uploads/2022/1...      False   \n",
       "3  https://imageio.forbes.com/specials-images/ima...      False   \n",
       "4  https://www.kitco.com/news/2022-11-30/images/S...      False   \n",
       "\n",
       "   twitter_account    _score                               _id  \\\n",
       "0          @forbes  9.171624  914213bf3dc5620e2e34aaa108a79d39   \n",
       "1  @billybambrough  9.071534  b463e7bd816a40559106ba780e07ba75   \n",
       "2   @stlnewsonline  8.952931  2675c8faa6140f16524501176c9ea87f   \n",
       "3          @forbes  8.888514  ce95aba216627a60bef50fe85b13f75e   \n",
       "4    @KitcoNewsNOW  8.884374  3adc5dc09e467407105a47501c43bfa0   \n",
       "\n",
       "                                         used_params  \n",
       "0  {'q': 'Bitcoin', 'lang': 'en', 'to_rank': 1000...  \n",
       "1  {'q': 'Bitcoin', 'lang': 'en', 'to_rank': 1000...  \n",
       "2  {'q': 'Bitcoin', 'lang': 'en', 'to_rank': 1000...  \n",
       "3  {'q': 'Bitcoin', 'lang': 'en', 'to_rank': 1000...  \n",
       "4  {'q': 'Bitcoin', 'lang': 'en', 'to_rank': 1000...  \n",
       "\n",
       "[5 rows x 21 columns]"
      ]
     },
     "execution_count": 10,
     "metadata": {},
     "output_type": "execute_result"
    }
   ],
   "source": [
    "#Read the data\n",
    "df=pd.read_csv('./extracted_news_articles1.csv')\n",
    "\n",
    "#Get shape and head\n",
    "df.shape\n",
    "df.head()"
   ]
  },
  {
   "cell_type": "code",
   "execution_count": 3,
   "id": "d4dce618-3238-4a10-b856-e7c107704775",
   "metadata": {},
   "outputs": [
    {
     "data": {
      "text/plain": [
       "0    FAKE\n",
       "1    FAKE\n",
       "2    REAL\n",
       "3    FAKE\n",
       "4    REAL\n",
       "Name: label, dtype: object"
      ]
     },
     "execution_count": 3,
     "metadata": {},
     "output_type": "execute_result"
    }
   ],
   "source": [
    "#DataFlair - Get the labels\n",
    "labels=df.label\n",
    "labels.head()"
   ]
  },
  {
   "cell_type": "code",
   "execution_count": 11,
   "id": "a02ed3f3-c4c0-41ae-8dc1-9084e8c19214",
   "metadata": {},
   "outputs": [
    {
     "ename": "ValueError",
     "evalue": "Found input variables with inconsistent numbers of samples: [309, 6335]",
     "output_type": "error",
     "traceback": [
      "\u001b[1;31m---------------------------------------------------------------------------\u001b[0m",
      "\u001b[1;31mValueError\u001b[0m                                Traceback (most recent call last)",
      "\u001b[1;32m~\\AppData\\Local\\Temp/ipykernel_18908/4054603272.py\u001b[0m in \u001b[0;36m<module>\u001b[1;34m\u001b[0m\n\u001b[0;32m      1\u001b[0m \u001b[1;31m#DataFlair - Split the dataset\u001b[0m\u001b[1;33m\u001b[0m\u001b[1;33m\u001b[0m\u001b[0m\n\u001b[1;32m----> 2\u001b[1;33m \u001b[0mx_train\u001b[0m\u001b[1;33m,\u001b[0m\u001b[0mx_test\u001b[0m\u001b[1;33m,\u001b[0m\u001b[0my_train\u001b[0m\u001b[1;33m,\u001b[0m\u001b[0my_test\u001b[0m\u001b[1;33m=\u001b[0m\u001b[0mtrain_test_split\u001b[0m\u001b[1;33m(\u001b[0m\u001b[0mdf\u001b[0m\u001b[1;33m[\u001b[0m\u001b[1;34m'summary'\u001b[0m\u001b[1;33m]\u001b[0m\u001b[1;33m,\u001b[0m \u001b[0mlabels\u001b[0m\u001b[1;33m,\u001b[0m \u001b[0mtest_size\u001b[0m\u001b[1;33m=\u001b[0m\u001b[1;36m0.2\u001b[0m\u001b[1;33m,\u001b[0m \u001b[0mrandom_state\u001b[0m\u001b[1;33m=\u001b[0m\u001b[1;36m7\u001b[0m\u001b[1;33m)\u001b[0m\u001b[1;33m\u001b[0m\u001b[1;33m\u001b[0m\u001b[0m\n\u001b[0m",
      "\u001b[1;32mC:\\ProgramData\\Anaconda3\\lib\\site-packages\\sklearn\\model_selection\\_split.py\u001b[0m in \u001b[0;36mtrain_test_split\u001b[1;34m(test_size, train_size, random_state, shuffle, stratify, *arrays)\u001b[0m\n\u001b[0;32m   2170\u001b[0m         \u001b[1;32mraise\u001b[0m \u001b[0mValueError\u001b[0m\u001b[1;33m(\u001b[0m\u001b[1;34m\"At least one array required as input\"\u001b[0m\u001b[1;33m)\u001b[0m\u001b[1;33m\u001b[0m\u001b[1;33m\u001b[0m\u001b[0m\n\u001b[0;32m   2171\u001b[0m \u001b[1;33m\u001b[0m\u001b[0m\n\u001b[1;32m-> 2172\u001b[1;33m     \u001b[0marrays\u001b[0m \u001b[1;33m=\u001b[0m \u001b[0mindexable\u001b[0m\u001b[1;33m(\u001b[0m\u001b[1;33m*\u001b[0m\u001b[0marrays\u001b[0m\u001b[1;33m)\u001b[0m\u001b[1;33m\u001b[0m\u001b[1;33m\u001b[0m\u001b[0m\n\u001b[0m\u001b[0;32m   2173\u001b[0m \u001b[1;33m\u001b[0m\u001b[0m\n\u001b[0;32m   2174\u001b[0m     \u001b[0mn_samples\u001b[0m \u001b[1;33m=\u001b[0m \u001b[0m_num_samples\u001b[0m\u001b[1;33m(\u001b[0m\u001b[0marrays\u001b[0m\u001b[1;33m[\u001b[0m\u001b[1;36m0\u001b[0m\u001b[1;33m]\u001b[0m\u001b[1;33m)\u001b[0m\u001b[1;33m\u001b[0m\u001b[1;33m\u001b[0m\u001b[0m\n",
      "\u001b[1;32mC:\\ProgramData\\Anaconda3\\lib\\site-packages\\sklearn\\utils\\validation.py\u001b[0m in \u001b[0;36mindexable\u001b[1;34m(*iterables)\u001b[0m\n\u001b[0;32m    354\u001b[0m     \"\"\"\n\u001b[0;32m    355\u001b[0m     \u001b[0mresult\u001b[0m \u001b[1;33m=\u001b[0m \u001b[1;33m[\u001b[0m\u001b[0m_make_indexable\u001b[0m\u001b[1;33m(\u001b[0m\u001b[0mX\u001b[0m\u001b[1;33m)\u001b[0m \u001b[1;32mfor\u001b[0m \u001b[0mX\u001b[0m \u001b[1;32min\u001b[0m \u001b[0miterables\u001b[0m\u001b[1;33m]\u001b[0m\u001b[1;33m\u001b[0m\u001b[1;33m\u001b[0m\u001b[0m\n\u001b[1;32m--> 356\u001b[1;33m     \u001b[0mcheck_consistent_length\u001b[0m\u001b[1;33m(\u001b[0m\u001b[1;33m*\u001b[0m\u001b[0mresult\u001b[0m\u001b[1;33m)\u001b[0m\u001b[1;33m\u001b[0m\u001b[1;33m\u001b[0m\u001b[0m\n\u001b[0m\u001b[0;32m    357\u001b[0m     \u001b[1;32mreturn\u001b[0m \u001b[0mresult\u001b[0m\u001b[1;33m\u001b[0m\u001b[1;33m\u001b[0m\u001b[0m\n\u001b[0;32m    358\u001b[0m \u001b[1;33m\u001b[0m\u001b[0m\n",
      "\u001b[1;32mC:\\ProgramData\\Anaconda3\\lib\\site-packages\\sklearn\\utils\\validation.py\u001b[0m in \u001b[0;36mcheck_consistent_length\u001b[1;34m(*arrays)\u001b[0m\n\u001b[0;32m    317\u001b[0m     \u001b[0muniques\u001b[0m \u001b[1;33m=\u001b[0m \u001b[0mnp\u001b[0m\u001b[1;33m.\u001b[0m\u001b[0munique\u001b[0m\u001b[1;33m(\u001b[0m\u001b[0mlengths\u001b[0m\u001b[1;33m)\u001b[0m\u001b[1;33m\u001b[0m\u001b[1;33m\u001b[0m\u001b[0m\n\u001b[0;32m    318\u001b[0m     \u001b[1;32mif\u001b[0m \u001b[0mlen\u001b[0m\u001b[1;33m(\u001b[0m\u001b[0muniques\u001b[0m\u001b[1;33m)\u001b[0m \u001b[1;33m>\u001b[0m \u001b[1;36m1\u001b[0m\u001b[1;33m:\u001b[0m\u001b[1;33m\u001b[0m\u001b[1;33m\u001b[0m\u001b[0m\n\u001b[1;32m--> 319\u001b[1;33m         raise ValueError(\"Found input variables with inconsistent numbers of\"\n\u001b[0m\u001b[0;32m    320\u001b[0m                          \" samples: %r\" % [int(l) for l in lengths])\n\u001b[0;32m    321\u001b[0m \u001b[1;33m\u001b[0m\u001b[0m\n",
      "\u001b[1;31mValueError\u001b[0m: Found input variables with inconsistent numbers of samples: [309, 6335]"
     ]
    }
   ],
   "source": [
    "#DataFlair - Split the dataset\n",
    "x_train,x_test,y_train,y_test=train_test_split(df['summary'], labels, test_size=0.2, random_state=7)"
   ]
  },
  {
   "cell_type": "code",
   "execution_count": 5,
   "id": "920581e1-6be6-4e47-9ea1-da353a906d6e",
   "metadata": {},
   "outputs": [],
   "source": [
    "#DataFlair - Initialize a TfidfVectorizer\n",
    "tfidf_vectorizer=TfidfVectorizer(stop_words='english', max_df=0.7)\n",
    "\n",
    "#DataFlair - Fit and transform train set, transform test set\n",
    "tfidf_train=tfidf_vectorizer.fit_transform(x_train) \n",
    "tfidf_test=tfidf_vectorizer.transform(x_test)"
   ]
  },
  {
   "cell_type": "code",
   "execution_count": 6,
   "id": "7f21fbac-306d-4652-8639-5e94bc7a8602",
   "metadata": {},
   "outputs": [
    {
     "name": "stdout",
     "output_type": "stream",
     "text": [
      "Accuracy: 92.58%\n"
     ]
    }
   ],
   "source": [
    "#DataFlair - Initialize a PassiveAggressiveClassifier\n",
    "pac=PassiveAggressiveClassifier(max_iter=50)\n",
    "pac.fit(tfidf_train,y_train)\n",
    "\n",
    "#DataFlair - Predict on the test set and calculate accuracy\n",
    "y_pred=pac.predict(tfidf_test)\n",
    "score=accuracy_score(y_test,y_pred)\n",
    "print(f'Accuracy: {round(score*100,2)}%')"
   ]
  },
  {
   "cell_type": "code",
   "execution_count": 7,
   "id": "d46ed147-9a1e-4837-8362-a94e9a17ac5c",
   "metadata": {},
   "outputs": [
    {
     "data": {
      "text/plain": [
       "array([[588,  50],\n",
       "       [ 44, 585]], dtype=int64)"
      ]
     },
     "execution_count": 7,
     "metadata": {},
     "output_type": "execute_result"
    }
   ],
   "source": [
    "#DataFlair - Build confusion matrix\n",
    "confusion_matrix(y_test,y_pred, labels=['FAKE','REAL'])"
   ]
  },
  {
   "cell_type": "code",
   "execution_count": null,
   "id": "94766642-f89a-4bd7-a585-86b4b0b8dbe0",
   "metadata": {},
   "outputs": [],
   "source": []
  }
 ],
 "metadata": {
  "kernelspec": {
   "display_name": "Python 3 (ipykernel)",
   "language": "python",
   "name": "python3"
  },
  "language_info": {
   "codemirror_mode": {
    "name": "ipython",
    "version": 3
   },
   "file_extension": ".py",
   "mimetype": "text/x-python",
   "name": "python",
   "nbconvert_exporter": "python",
   "pygments_lexer": "ipython3",
   "version": "3.9.12"
  }
 },
 "nbformat": 4,
 "nbformat_minor": 5
}
